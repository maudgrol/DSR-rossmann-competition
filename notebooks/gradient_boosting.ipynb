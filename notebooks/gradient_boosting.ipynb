{
 "cells": [
  {
   "cell_type": "markdown",
   "metadata": {},
   "source": [
    "# Gradient Boosting model"
   ]
  },
  {
   "cell_type": "markdown",
   "metadata": {},
   "source": [
    "## Import data and set up"
   ]
  },
  {
   "cell_type": "code",
   "execution_count": 1,
   "metadata": {},
   "outputs": [],
   "source": [
    "# import relevant packages\n",
    "import os\n",
    "import pandas as pd\n",
    "import numpy as np\n",
    "import matplotlib.pyplot as plt\n",
    "import xgboost as xgb\n",
    "from sklearn.ensemble import RandomForestRegressor\n",
    "from sklearn.model_selection import GridSearchCV\n",
    "from sklearn.metrics import make_scorer\n",
    "\n",
    "%matplotlib inline"
   ]
  },
  {
   "cell_type": "code",
   "execution_count": 2,
   "metadata": {},
   "outputs": [],
   "source": [
    "# set up paths\n",
    "data_dir = \"../data\""
   ]
  },
  {
   "cell_type": "code",
   "execution_count": 3,
   "metadata": {},
   "outputs": [
    {
     "name": "stdout",
     "output_type": "stream",
     "text": [
      "(397900, 25)\n",
      "(99476, 25)\n",
      "(397900, 1)\n",
      "(99476, 1)\n"
     ]
    }
   ],
   "source": [
    "# import data \n",
    "X_train = pd.read_csv(os.path.join(data_dir, 'X_train.csv'))\n",
    "X_test = pd.read_csv(os.path.join(data_dir, 'X_test.csv'))\n",
    "y_train = pd.read_csv(os.path.join(data_dir, 'y_train.csv'))\n",
    "y_test = pd.read_csv(os.path.join(data_dir, 'y_test.csv'))\n",
    "\n",
    "print(X_train.shape)\n",
    "print(X_test.shape)\n",
    "print(y_train.shape)\n",
    "print(y_test.shape)"
   ]
  },
  {
   "cell_type": "code",
   "execution_count": 4,
   "metadata": {},
   "outputs": [],
   "source": [
    "def metric(preds, actuals):\n",
    "    preds = preds.reshape(-1)\n",
    "    actuals = actuals.reshape(-1)\n",
    "    assert preds.shape == actuals.shape\n",
    "    return 100 * np.linalg.norm((actuals - preds) / actuals) / np.sqrt(preds.shape[0])"
   ]
  },
  {
   "cell_type": "code",
   "execution_count": 5,
   "metadata": {},
   "outputs": [
    {
     "data": {
      "text/plain": [
       "Index(['Date', 'Store', 'Sales', 'Customers', 'Open', 'Promo', 'StateHoliday',\n",
       "       'SchoolHoliday', 'StoreType', 'Assortment', 'CompetitionDistance',\n",
       "       'CompetitionOpenSinceMonth', 'CompetitionOpenSinceYear', 'Promo2',\n",
       "       'Promo2SinceWeek', 'Promo2SinceYear', 'PromoInterval', 'Month', 'Year',\n",
       "       'Weekday', 'Holiday', 'StoreType_enc', 'Assortment_enc', 'Store_enc',\n",
       "       'Customers_enc'],\n",
       "      dtype='object')"
      ]
     },
     "execution_count": 5,
     "metadata": {},
     "output_type": "execute_result"
    }
   ],
   "source": [
    "X_train.columns"
   ]
  },
  {
   "cell_type": "code",
   "execution_count": 6,
   "metadata": {},
   "outputs": [
    {
     "name": "stdout",
     "output_type": "stream",
     "text": [
      "Index(['Promo', 'SchoolHoliday', 'CompetitionDistance', 'Month', 'Weekday',\n",
      "       'Holiday', 'Customers_enc', 'StoreType_enc', 'Assortment_enc',\n",
      "       'Store_enc'],\n",
      "      dtype='object')\n",
      "Index(['Promo', 'SchoolHoliday', 'CompetitionDistance', 'Month', 'Weekday',\n",
      "       'Holiday', 'Customers_enc', 'StoreType_enc', 'Assortment_enc',\n",
      "       'Store_enc'],\n",
      "      dtype='object')\n"
     ]
    }
   ],
   "source": [
    "train_cols = ['Promo', 'SchoolHoliday', 'CompetitionDistance', 'Month',\n",
    "              'Weekday', 'Holiday', 'Customers_enc', 'StoreType_enc', \n",
    "              'Assortment_enc', 'Store_enc']\n",
    "\n",
    "X_train = X_train[train_cols]\n",
    "X_test = X_test[train_cols]\n",
    "print(X_train.columns)\n",
    "print(X_test.columns)"
   ]
  },
  {
   "cell_type": "markdown",
   "metadata": {},
   "source": [
    "Logarithmically transforming y during training (and converting back after prediction) gives better performance."
   ]
  },
  {
   "cell_type": "code",
   "execution_count": 7,
   "metadata": {},
   "outputs": [],
   "source": [
    "y_train['Sales'] = y_train['Sales'].apply(np.log)"
   ]
  },
  {
   "cell_type": "code",
   "execution_count": 8,
   "metadata": {},
   "outputs": [],
   "source": [
    "y_train = y_train.to_numpy().flatten()\n",
    "y_test = y_test.to_numpy().flatten()"
   ]
  },
  {
   "cell_type": "markdown",
   "metadata": {},
   "source": [
    "## Gradient Boosting"
   ]
  },
  {
   "cell_type": "code",
   "execution_count": null,
   "metadata": {},
   "outputs": [],
   "source": [
    "#xgboost\n",
    "model = xgb.XGBRegressor(n_jobs=-1, random_state=42)"
   ]
  },
  {
   "cell_type": "code",
   "execution_count": null,
   "metadata": {},
   "outputs": [],
   "source": [
    "# define parameter space for grid search\n",
    "parameter_space = {\n",
    "    'n_estimators': [500, 1000],\n",
    "    'eta': [0.03, 0.1],\n",
    "    'subsample': [0.7],\n",
    "    'colsample_bytree': [0.7],\n",
    "    'max_depth': [5, 7]\n",
    "}\n",
    "\n",
    "# n_estimators = number of trees in the foreset\n",
    "# max_features = max number of features considered for splitting a node\n",
    "# max_depth = max number of levels in each decision tree\n",
    "# min_samples_split = min number of data points placed in a node before the node is split\n",
    "# min_samples_leaf = min number of data points allowed in a leaf node\n",
    "# bootstrap = method for sampling data points (with or without replacement)"
   ]
  },
  {
   "cell_type": "code",
   "execution_count": null,
   "metadata": {},
   "outputs": [],
   "source": [
    "my_scorer = make_scorer(metric, greater_is_better=False)"
   ]
  },
  {
   "cell_type": "code",
   "execution_count": null,
   "metadata": {},
   "outputs": [],
   "source": [
    "%%time\n",
    "regr = GridSearchCV(model, parameter_space, scoring=my_scorer, \n",
    "                   n_jobs=None, cv=5, return_train_score = True)\n",
    "regr.fit(X_train, y_train)"
   ]
  },
  {
   "cell_type": "code",
   "execution_count": null,
   "metadata": {},
   "outputs": [],
   "source": [
    "#Best estimator\n",
    "print('Best estimator:\\n', regr.best_estimator_)\n",
    "\n",
    "# Best parameter setting\n",
    "print('Best parameters found:\\n', regr.best_params_)\n",
    "\n",
    "# Scorer used on the held out data to choose best parameters for the model\n",
    "print('Scorer used on the held out data to choose the best parameters for the model:', regr.scorer_)\n",
    "\n",
    "# Mean cross-validated score of the best estimator\n",
    "print('Best mean cross-validated score:', regr.best_score_)"
   ]
  },
  {
   "cell_type": "code",
   "execution_count": null,
   "metadata": {},
   "outputs": [],
   "source": [
    "# All results\n",
    "cv_results = pd.DataFrame.from_dict(regr.cv_results_)\n",
    "cv_results"
   ]
  },
  {
   "cell_type": "code",
   "execution_count": null,
   "metadata": {},
   "outputs": [],
   "source": [
    "log_y_pred = regr.predict(X_test)\n",
    "y_pred = np.exp(log_y_pred)\n",
    "value = metric(y_pred, y_test)\n",
    "print(value)"
   ]
  },
  {
   "cell_type": "code",
   "execution_count": 9,
   "metadata": {},
   "outputs": [
    {
     "name": "stdout",
     "output_type": "stream",
     "text": [
      "19.70245719234581\n",
      "[0.28944603 0.013727   0.01660584 0.01660286 0.04595874 0.01525655\n",
      " 0.03869773 0.07505293 0.0292779  0.45937443]\n"
     ]
    }
   ],
   "source": [
    "# Feature importance\n",
    "model = xgb.XGBRegressor(n_estimators=1000,\n",
    "                         eta=0.1,\n",
    "                         subsample=0.7,\n",
    "                         colsample_bytree=0.7,\n",
    "                         max_depth=7,\n",
    "                         n_jobs=-1, \n",
    "                         random_state=42)\n",
    "\n",
    "model.fit(X_train, y_train)\n",
    "log_y_pred = model.predict(X_test)\n",
    "y_pred = np.exp(log_y_pred)\n",
    "value = metric(y_pred, y_test)\n",
    "print(value)\n",
    "\n",
    "print(model.feature_importances_)"
   ]
  },
  {
   "cell_type": "code",
   "execution_count": null,
   "metadata": {},
   "outputs": [],
   "source": [
    "# plot feature importance\n",
    "plt.bar(range(len(model.feature_importances_)), model.feature_importances_)\n",
    "plt.show()"
   ]
  },
  {
   "cell_type": "code",
   "execution_count": null,
   "metadata": {},
   "outputs": [],
   "source": [
    "X_train.columns"
   ]
  },
  {
   "cell_type": "code",
   "execution_count": null,
   "metadata": {},
   "outputs": [],
   "source": []
  }
 ],
 "metadata": {
  "kernelspec": {
   "display_name": "Python 3",
   "language": "python",
   "name": "python3"
  },
  "language_info": {
   "codemirror_mode": {
    "name": "ipython",
    "version": 3
   },
   "file_extension": ".py",
   "mimetype": "text/x-python",
   "name": "python",
   "nbconvert_exporter": "python",
   "pygments_lexer": "ipython3",
   "version": "3.9.6"
  }
 },
 "nbformat": 4,
 "nbformat_minor": 4
}
