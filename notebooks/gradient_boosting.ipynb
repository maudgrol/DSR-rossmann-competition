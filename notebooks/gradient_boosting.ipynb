{
 "cells": [
  {
   "cell_type": "markdown",
   "metadata": {},
   "source": [
    "# Gradient Boosting model"
   ]
  },
  {
   "cell_type": "markdown",
   "metadata": {},
   "source": [
    "## Import data and set up"
   ]
  },
  {
   "cell_type": "code",
   "execution_count": 12,
   "metadata": {},
   "outputs": [],
   "source": [
    "# import relevant packages\n",
    "import os\n",
    "import pandas as pd\n",
    "import numpy as np\n",
    "import matplotlib.pyplot as plt\n",
    "import xgboost as xgb\n",
    "from sklearn.ensemble import RandomForestRegressor\n",
    "from sklearn.model_selection import GridSearchCV\n",
    "from sklearn.metrics import make_scorer\n",
    "\n",
    "%matplotlib inline"
   ]
  },
  {
   "cell_type": "code",
   "execution_count": 13,
   "metadata": {},
   "outputs": [],
   "source": [
    "# set up paths\n",
    "data_dir = \"../data\""
   ]
  },
  {
   "cell_type": "code",
   "execution_count": 14,
   "metadata": {},
   "outputs": [
    {
     "name": "stdout",
     "output_type": "stream",
     "text": [
      "(397900, 25)\n",
      "(99476, 25)\n",
      "(397900, 1)\n",
      "(99476, 1)\n"
     ]
    }
   ],
   "source": [
    "# import data \n",
    "X_train = pd.read_csv(os.path.join(data_dir, 'X_train.csv'))\n",
    "X_test = pd.read_csv(os.path.join(data_dir, 'X_test.csv'))\n",
    "y_train = pd.read_csv(os.path.join(data_dir, 'y_train.csv'))\n",
    "y_test = pd.read_csv(os.path.join(data_dir, 'y_test.csv'))\n",
    "\n",
    "print(X_train.shape)\n",
    "print(X_test.shape)\n",
    "print(y_train.shape)\n",
    "print(y_test.shape)"
   ]
  },
  {
   "cell_type": "code",
   "execution_count": 15,
   "metadata": {},
   "outputs": [],
   "source": [
    "def metric(preds, actuals):\n",
    "    preds = preds.reshape(-1)\n",
    "    actuals = actuals.reshape(-1)\n",
    "    assert preds.shape == actuals.shape\n",
    "    return 100 * np.linalg.norm((actuals - preds) / actuals) / np.sqrt(preds.shape[0])"
   ]
  },
  {
   "cell_type": "code",
   "execution_count": 16,
   "metadata": {},
   "outputs": [
    {
     "data": {
      "text/plain": [
       "Index(['Date', 'Store', 'Sales', 'Customers', 'Open', 'Promo', 'StateHoliday',\n",
       "       'SchoolHoliday', 'StoreType', 'Assortment', 'CompetitionDistance',\n",
       "       'CompetitionOpenSinceMonth', 'CompetitionOpenSinceYear', 'Promo2',\n",
       "       'Promo2SinceWeek', 'Promo2SinceYear', 'PromoInterval', 'Month', 'Year',\n",
       "       'Weekday', 'Holiday', 'StoreType_enc', 'Assortment_enc', 'Store_enc',\n",
       "       'Customers_enc'],\n",
       "      dtype='object')"
      ]
     },
     "execution_count": 16,
     "metadata": {},
     "output_type": "execute_result"
    }
   ],
   "source": [
    "X_train.columns"
   ]
  },
  {
   "cell_type": "code",
   "execution_count": 17,
   "metadata": {},
   "outputs": [
    {
     "name": "stdout",
     "output_type": "stream",
     "text": [
      "Index(['Promo', 'SchoolHoliday', 'CompetitionDistance', 'Month', 'Weekday',\n",
      "       'Holiday', 'Customers_enc', 'StoreType_enc', 'Assortment_enc',\n",
      "       'Store_enc'],\n",
      "      dtype='object')\n",
      "Index(['Promo', 'SchoolHoliday', 'CompetitionDistance', 'Month', 'Weekday',\n",
      "       'Holiday', 'Customers_enc', 'StoreType_enc', 'Assortment_enc',\n",
      "       'Store_enc'],\n",
      "      dtype='object')\n"
     ]
    }
   ],
   "source": [
    "train_cols = ['Promo', 'SchoolHoliday', 'CompetitionDistance', 'Month',\n",
    "              'Weekday', 'Holiday', 'Customers_enc', 'StoreType_enc', \n",
    "              'Assortment_enc', 'Store_enc']\n",
    "\n",
    "X_train = X_train[train_cols]\n",
    "X_test = X_test[train_cols]\n",
    "print(X_train.columns)\n",
    "print(X_test.columns)"
   ]
  },
  {
   "cell_type": "code",
   "execution_count": 18,
   "metadata": {},
   "outputs": [],
   "source": [
    "y_train = y_train.to_numpy().flatten()\n",
    "y_test = y_test.to_numpy().flatten()"
   ]
  },
  {
   "cell_type": "markdown",
   "metadata": {},
   "source": [
    "## Gradient Boosting"
   ]
  },
  {
   "cell_type": "code",
   "execution_count": 8,
   "metadata": {},
   "outputs": [],
   "source": [
    "#xgboost\n",
    "model = xgb.XGBRegressor(n_jobs=1, random_state=42)"
   ]
  },
  {
   "cell_type": "code",
   "execution_count": 27,
   "metadata": {},
   "outputs": [],
   "source": [
    "# define parameter space for grid search\n",
    "parameter_space = {\n",
    "    'n_estimators': [500],\n",
    "    'eta': [0.1],\n",
    "    'subsample': [0.7],\n",
    "    'colsample_bytree': [0.7],\n",
    "    'max_depth': [7]\n",
    "}\n",
    "\n",
    "# n_estimators = number of trees in the foreset\n",
    "# max_features = max number of features considered for splitting a node\n",
    "# max_depth = max number of levels in each decision tree\n",
    "# min_samples_split = min number of data points placed in a node before the node is split\n",
    "# min_samples_leaf = min number of data points allowed in a leaf node\n",
    "# bootstrap = method for sampling data points (with or without replacement)"
   ]
  },
  {
   "cell_type": "code",
   "execution_count": 28,
   "metadata": {},
   "outputs": [],
   "source": [
    "my_scorer = make_scorer(metric, greater_is_better=False)"
   ]
  },
  {
   "cell_type": "code",
   "execution_count": 29,
   "metadata": {},
   "outputs": [
    {
     "name": "stdout",
     "output_type": "stream",
     "text": [
      "CPU times: user 10min 25s, sys: 1.06 s, total: 10min 26s\n",
      "Wall time: 10min 27s\n"
     ]
    },
    {
     "data": {
      "text/plain": [
       "GridSearchCV(cv=5,\n",
       "             estimator=XGBRegressor(base_score=None, booster=None,\n",
       "                                    colsample_bylevel=None,\n",
       "                                    colsample_bynode=None,\n",
       "                                    colsample_bytree=None, gamma=None,\n",
       "                                    gpu_id=None, importance_type='gain',\n",
       "                                    interaction_constraints=None,\n",
       "                                    learning_rate=None, max_delta_step=None,\n",
       "                                    max_depth=None, min_child_weight=None,\n",
       "                                    missing=nan, monotone_constraints=None,\n",
       "                                    n_estimators=100, n_jobs=1,\n",
       "                                    num_parallel_tree=None, random_state=42,\n",
       "                                    reg_alpha=None, reg_lambda=None,\n",
       "                                    scale_pos_weight=None, subsample=None,\n",
       "                                    tree_method=None, validate_parameters=None,\n",
       "                                    verbosity=None),\n",
       "             param_grid={'colsample_bytree': [0.7], 'eta': [0.1],\n",
       "                         'max_depth': [7], 'n_estimators': [500],\n",
       "                         'subsample': [0.7]},\n",
       "             return_train_score=True,\n",
       "             scoring=make_scorer(metric, greater_is_better=False))"
      ]
     },
     "execution_count": 29,
     "metadata": {},
     "output_type": "execute_result"
    }
   ],
   "source": [
    "%%time\n",
    "regr = GridSearchCV(model, parameter_space, scoring=my_scorer, \n",
    "                   n_jobs=None, cv=5, return_train_score = True)\n",
    "regr.fit(X_train, y_train)"
   ]
  },
  {
   "cell_type": "code",
   "execution_count": 30,
   "metadata": {},
   "outputs": [
    {
     "name": "stdout",
     "output_type": "stream",
     "text": [
      "Best estimator:\n",
      " XGBRegressor(base_score=0.5, booster='gbtree', colsample_bylevel=1,\n",
      "             colsample_bynode=1, colsample_bytree=0.7, eta=0.1, gamma=0,\n",
      "             gpu_id=-1, importance_type='gain', interaction_constraints='',\n",
      "             learning_rate=0.100000001, max_delta_step=0, max_depth=7,\n",
      "             min_child_weight=1, missing=nan, monotone_constraints='()',\n",
      "             n_estimators=500, n_jobs=1, num_parallel_tree=1, random_state=42,\n",
      "             reg_alpha=0, reg_lambda=1, scale_pos_weight=1, subsample=0.7,\n",
      "             tree_method='exact', validate_parameters=1, verbosity=None)\n",
      "Best parameters found:\n",
      " {'colsample_bytree': 0.7, 'eta': 0.1, 'max_depth': 7, 'n_estimators': 500, 'subsample': 0.7}\n",
      "Scorer used on the held out data to choose the best parameters for the model: make_scorer(metric, greater_is_better=False)\n",
      "Best mean cross-validated score: -15.191864665954162\n"
     ]
    }
   ],
   "source": [
    "#Best estimator\n",
    "print('Best estimator:\\n', regr.best_estimator_)\n",
    "\n",
    "# Best parameter setting\n",
    "print('Best parameters found:\\n', regr.best_params_)\n",
    "\n",
    "# Scorer used on the held out data to choose best parameters for the model\n",
    "print('Scorer used on the held out data to choose the best parameters for the model:', regr.scorer_)\n",
    "\n",
    "# Mean cross-validated score of the best estimator\n",
    "print('Best mean cross-validated score:', regr.best_score_)"
   ]
  },
  {
   "cell_type": "code",
   "execution_count": 31,
   "metadata": {},
   "outputs": [
    {
     "data": {
      "text/html": [
       "<div>\n",
       "<style scoped>\n",
       "    .dataframe tbody tr th:only-of-type {\n",
       "        vertical-align: middle;\n",
       "    }\n",
       "\n",
       "    .dataframe tbody tr th {\n",
       "        vertical-align: top;\n",
       "    }\n",
       "\n",
       "    .dataframe thead th {\n",
       "        text-align: right;\n",
       "    }\n",
       "</style>\n",
       "<table border=\"1\" class=\"dataframe\">\n",
       "  <thead>\n",
       "    <tr style=\"text-align: right;\">\n",
       "      <th></th>\n",
       "      <th>mean_fit_time</th>\n",
       "      <th>std_fit_time</th>\n",
       "      <th>mean_score_time</th>\n",
       "      <th>std_score_time</th>\n",
       "      <th>param_colsample_bytree</th>\n",
       "      <th>param_eta</th>\n",
       "      <th>param_max_depth</th>\n",
       "      <th>param_n_estimators</th>\n",
       "      <th>param_subsample</th>\n",
       "      <th>params</th>\n",
       "      <th>...</th>\n",
       "      <th>mean_test_score</th>\n",
       "      <th>std_test_score</th>\n",
       "      <th>rank_test_score</th>\n",
       "      <th>split0_train_score</th>\n",
       "      <th>split1_train_score</th>\n",
       "      <th>split2_train_score</th>\n",
       "      <th>split3_train_score</th>\n",
       "      <th>split4_train_score</th>\n",
       "      <th>mean_train_score</th>\n",
       "      <th>std_train_score</th>\n",
       "    </tr>\n",
       "  </thead>\n",
       "  <tbody>\n",
       "    <tr>\n",
       "      <th>0</th>\n",
       "      <td>97.564159</td>\n",
       "      <td>1.181668</td>\n",
       "      <td>0.757797</td>\n",
       "      <td>0.010214</td>\n",
       "      <td>0.7</td>\n",
       "      <td>0.1</td>\n",
       "      <td>7</td>\n",
       "      <td>500</td>\n",
       "      <td>0.7</td>\n",
       "      <td>{'colsample_bytree': 0.7, 'eta': 0.1, 'max_dep...</td>\n",
       "      <td>...</td>\n",
       "      <td>-15.191865</td>\n",
       "      <td>0.144461</td>\n",
       "      <td>1</td>\n",
       "      <td>-14.664859</td>\n",
       "      <td>-14.656293</td>\n",
       "      <td>-14.646372</td>\n",
       "      <td>-14.748842</td>\n",
       "      <td>-14.640758</td>\n",
       "      <td>-14.671425</td>\n",
       "      <td>0.039582</td>\n",
       "    </tr>\n",
       "  </tbody>\n",
       "</table>\n",
       "<p>1 rows × 25 columns</p>\n",
       "</div>"
      ],
      "text/plain": [
       "   mean_fit_time  std_fit_time  mean_score_time  std_score_time  \\\n",
       "0      97.564159      1.181668         0.757797        0.010214   \n",
       "\n",
       "  param_colsample_bytree param_eta param_max_depth param_n_estimators  \\\n",
       "0                    0.7       0.1               7                500   \n",
       "\n",
       "  param_subsample                                             params  ...  \\\n",
       "0             0.7  {'colsample_bytree': 0.7, 'eta': 0.1, 'max_dep...  ...   \n",
       "\n",
       "   mean_test_score  std_test_score  rank_test_score  split0_train_score  \\\n",
       "0       -15.191865        0.144461                1          -14.664859   \n",
       "\n",
       "   split1_train_score  split2_train_score  split3_train_score  \\\n",
       "0          -14.656293          -14.646372          -14.748842   \n",
       "\n",
       "   split4_train_score  mean_train_score  std_train_score  \n",
       "0          -14.640758        -14.671425         0.039582  \n",
       "\n",
       "[1 rows x 25 columns]"
      ]
     },
     "execution_count": 31,
     "metadata": {},
     "output_type": "execute_result"
    }
   ],
   "source": [
    "# All results\n",
    "cv_results = pd.DataFrame.from_dict(regr.cv_results_)\n",
    "cv_results"
   ]
  },
  {
   "cell_type": "code",
   "execution_count": 32,
   "metadata": {},
   "outputs": [
    {
     "name": "stdout",
     "output_type": "stream",
     "text": [
      "18.261241337548125\n"
     ]
    }
   ],
   "source": [
    "y_pred = regr.predict(X_test)\n",
    "value = metric(y_pred, y_test)\n",
    "print(value)"
   ]
  },
  {
   "cell_type": "code",
   "execution_count": 19,
   "metadata": {},
   "outputs": [
    {
     "name": "stdout",
     "output_type": "stream",
     "text": [
      "16.329138989884804\n",
      "[0.26692548 0.01646876 0.01357434 0.02687794 0.05155751 0.01181065\n",
      " 0.04002701 0.04869799 0.02188784 0.50217247]\n"
     ]
    }
   ],
   "source": [
    "# Feature importance\n",
    "model = xgb.XGBRegressor(n_estimators=1000,\n",
    "                         eta=0.1,\n",
    "                         subsample=0.7,\n",
    "                         colsample_bytree=0.7,\n",
    "                         max_depth=6,\n",
    "                         n_jobs=-1, \n",
    "                         random_state=42)\n",
    "\n",
    "model.fit(X_train, y_train)\n",
    "y_pred = model.predict(X_test)\n",
    "value = metric(y_pred, y_test)\n",
    "print(value)\n",
    "\n",
    "print(model.feature_importances_)"
   ]
  },
  {
   "cell_type": "code",
   "execution_count": 20,
   "metadata": {},
   "outputs": [
    {
     "data": {
      "image/png": "[encoded data removed]",
      "text/plain": [
       "<Figure size 432x288 with 1 Axes>"
      ]
     },
     "metadata": {
      "needs_background": "light"
     },
     "output_type": "display_data"
    }
   ],
   "source": [
    "# plot feature importance\n",
    "plt.bar(range(len(model.feature_importances_)), model.feature_importances_)\n",
    "plt.show()"
   ]
  },
  {
   "cell_type": "code",
   "execution_count": 11,
   "metadata": {},
   "outputs": [
    {
     "data": {
      "text/plain": [
       "Index(['Promo', 'SchoolHoliday', 'CompetitionDistance', 'Month', 'Weekday',\n",
       "       'Holiday', 'Customers_enc', 'StoreType_enc', 'Assortment_enc',\n",
       "       'Store_enc'],\n",
       "      dtype='object')"
      ]
     },
     "execution_count": 11,
     "metadata": {},
     "output_type": "execute_result"
    }
   ],
   "source": [
    "X_train.columns"
   ]
  },
  {
   "cell_type": "code",
   "execution_count": null,
   "metadata": {},
   "outputs": [],
   "source": []
  }
 ],
 "metadata": {
  "kernelspec": {
   "display_name": "Python 3",
   "language": "python",
   "name": "python3"
  },
  "language_info": {
   "codemirror_mode": {
    "name": "ipython",
    "version": 3
   },
   "file_extension": ".py",
   "mimetype": "text/x-python",
   "name": "python",
   "nbconvert_exporter": "python",
   "pygments_lexer": "ipython3",
   "version": "3.9.6"
  }
 },
 "nbformat": 4,
 "nbformat_minor": 4
}
