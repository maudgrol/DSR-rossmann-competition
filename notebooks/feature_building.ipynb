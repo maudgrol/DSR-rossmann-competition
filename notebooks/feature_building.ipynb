{
 "cells": [
  {
   "cell_type": "markdown",
   "metadata": {},
   "source": [
    "# Feature building"
   ]
  },
  {
   "cell_type": "markdown",
   "metadata": {},
   "source": [
    "## Import and set up"
   ]
  },
  {
   "cell_type": "code",
   "execution_count": 1,
   "metadata": {},
   "outputs": [],
   "source": [
    "# import relevant packages\n",
    "import os\n",
    "import pandas as pd\n",
    "import numpy as np\n",
    "from sklearn.model_selection import train_test_split\n",
    "import matplotlib.pyplot as plt"
   ]
  },
  {
   "cell_type": "code",
   "execution_count": 2,
   "metadata": {},
   "outputs": [],
   "source": [
    "# set up paths\n",
    "data_dir = \"../data\""
   ]
  },
  {
   "cell_type": "code",
   "execution_count": 3,
   "metadata": {
    "scrolled": true
   },
   "outputs": [
    {
     "name": "stdout",
     "output_type": "stream",
     "text": [
      "(497376, 20)\n"
     ]
    },
    {
     "name": "stderr",
     "output_type": "stream",
     "text": [
      "/opt/anaconda3/envs/dsr-minicomp/lib/python3.9/site-packages/IPython/core/interactiveshell.py:3441: DtypeWarning: Columns (6) have mixed types.Specify dtype option on import or set low_memory=False.\n",
      "  exec(code_obj, self.user_global_ns, self.user_ns)\n"
     ]
    },
    {
     "data": {
      "text/html": [
       "<div>\n",
       "<style scoped>\n",
       "    .dataframe tbody tr th:only-of-type {\n",
       "        vertical-align: middle;\n",
       "    }\n",
       "\n",
       "    .dataframe tbody tr th {\n",
       "        vertical-align: top;\n",
       "    }\n",
       "\n",
       "    .dataframe thead th {\n",
       "        text-align: right;\n",
       "    }\n",
       "</style>\n",
       "<table border=\"1\" class=\"dataframe\">\n",
       "  <thead>\n",
       "    <tr style=\"text-align: right;\">\n",
       "      <th></th>\n",
       "      <th>Date</th>\n",
       "      <th>Store</th>\n",
       "      <th>Sales</th>\n",
       "      <th>Customers</th>\n",
       "      <th>Open</th>\n",
       "      <th>Promo</th>\n",
       "      <th>StateHoliday</th>\n",
       "      <th>SchoolHoliday</th>\n",
       "      <th>StoreType</th>\n",
       "      <th>Assortment</th>\n",
       "      <th>CompetitionDistance</th>\n",
       "      <th>CompetitionOpenSinceMonth</th>\n",
       "      <th>CompetitionOpenSinceYear</th>\n",
       "      <th>Promo2</th>\n",
       "      <th>Promo2SinceWeek</th>\n",
       "      <th>Promo2SinceYear</th>\n",
       "      <th>PromoInterval</th>\n",
       "      <th>Month</th>\n",
       "      <th>Year</th>\n",
       "      <th>Weekday</th>\n",
       "    </tr>\n",
       "  </thead>\n",
       "  <tbody>\n",
       "    <tr>\n",
       "      <th>0</th>\n",
       "      <td>2013-01-01</td>\n",
       "      <td>353.0</td>\n",
       "      <td>3139.0</td>\n",
       "      <td>820.0</td>\n",
       "      <td>1.0</td>\n",
       "      <td>0.0</td>\n",
       "      <td>a</td>\n",
       "      <td>1.0</td>\n",
       "      <td>b</td>\n",
       "      <td>b</td>\n",
       "      <td>900.0</td>\n",
       "      <td>NaN</td>\n",
       "      <td>NaN</td>\n",
       "      <td>1.0</td>\n",
       "      <td>14.0</td>\n",
       "      <td>2013.0</td>\n",
       "      <td>Feb,May,Aug,Nov</td>\n",
       "      <td>1</td>\n",
       "      <td>2013</td>\n",
       "      <td>1</td>\n",
       "    </tr>\n",
       "    <tr>\n",
       "      <th>1</th>\n",
       "      <td>2013-01-01</td>\n",
       "      <td>335.0</td>\n",
       "      <td>2401.0</td>\n",
       "      <td>482.0</td>\n",
       "      <td>1.0</td>\n",
       "      <td>0.0</td>\n",
       "      <td>a</td>\n",
       "      <td>1.0</td>\n",
       "      <td>b</td>\n",
       "      <td>a</td>\n",
       "      <td>90.0</td>\n",
       "      <td>NaN</td>\n",
       "      <td>NaN</td>\n",
       "      <td>1.0</td>\n",
       "      <td>31.0</td>\n",
       "      <td>2013.0</td>\n",
       "      <td>Jan,Apr,Jul,Oct</td>\n",
       "      <td>1</td>\n",
       "      <td>2013</td>\n",
       "      <td>1</td>\n",
       "    </tr>\n",
       "    <tr>\n",
       "      <th>2</th>\n",
       "      <td>2013-01-01</td>\n",
       "      <td>512.0</td>\n",
       "      <td>2646.0</td>\n",
       "      <td>625.0</td>\n",
       "      <td>1.0</td>\n",
       "      <td>0.0</td>\n",
       "      <td>a</td>\n",
       "      <td>1.0</td>\n",
       "      <td>b</td>\n",
       "      <td>b</td>\n",
       "      <td>590.0</td>\n",
       "      <td>NaN</td>\n",
       "      <td>NaN</td>\n",
       "      <td>1.0</td>\n",
       "      <td>5.0</td>\n",
       "      <td>2013.0</td>\n",
       "      <td>Mar,Jun,Sept,Dec</td>\n",
       "      <td>1</td>\n",
       "      <td>2013</td>\n",
       "      <td>1</td>\n",
       "    </tr>\n",
       "    <tr>\n",
       "      <th>3</th>\n",
       "      <td>2013-01-01</td>\n",
       "      <td>494.0</td>\n",
       "      <td>3113.0</td>\n",
       "      <td>527.0</td>\n",
       "      <td>1.0</td>\n",
       "      <td>0.0</td>\n",
       "      <td>a</td>\n",
       "      <td>1.0</td>\n",
       "      <td>b</td>\n",
       "      <td>a</td>\n",
       "      <td>1260.0</td>\n",
       "      <td>6.0</td>\n",
       "      <td>2011.0</td>\n",
       "      <td>0.0</td>\n",
       "      <td>NaN</td>\n",
       "      <td>NaN</td>\n",
       "      <td>NaN</td>\n",
       "      <td>1</td>\n",
       "      <td>2013</td>\n",
       "      <td>1</td>\n",
       "    </tr>\n",
       "    <tr>\n",
       "      <th>4</th>\n",
       "      <td>2013-01-01</td>\n",
       "      <td>530.0</td>\n",
       "      <td>2907.0</td>\n",
       "      <td>532.0</td>\n",
       "      <td>1.0</td>\n",
       "      <td>0.0</td>\n",
       "      <td>a</td>\n",
       "      <td>1.0</td>\n",
       "      <td>a</td>\n",
       "      <td>c</td>\n",
       "      <td>18160.0</td>\n",
       "      <td>NaN</td>\n",
       "      <td>NaN</td>\n",
       "      <td>0.0</td>\n",
       "      <td>NaN</td>\n",
       "      <td>NaN</td>\n",
       "      <td>NaN</td>\n",
       "      <td>1</td>\n",
       "      <td>2013</td>\n",
       "      <td>1</td>\n",
       "    </tr>\n",
       "  </tbody>\n",
       "</table>\n",
       "</div>"
      ],
      "text/plain": [
       "         Date  Store   Sales  Customers  Open  Promo StateHoliday  \\\n",
       "0  2013-01-01  353.0  3139.0      820.0   1.0    0.0            a   \n",
       "1  2013-01-01  335.0  2401.0      482.0   1.0    0.0            a   \n",
       "2  2013-01-01  512.0  2646.0      625.0   1.0    0.0            a   \n",
       "3  2013-01-01  494.0  3113.0      527.0   1.0    0.0            a   \n",
       "4  2013-01-01  530.0  2907.0      532.0   1.0    0.0            a   \n",
       "\n",
       "   SchoolHoliday StoreType Assortment  CompetitionDistance  \\\n",
       "0            1.0         b          b                900.0   \n",
       "1            1.0         b          a                 90.0   \n",
       "2            1.0         b          b                590.0   \n",
       "3            1.0         b          a               1260.0   \n",
       "4            1.0         a          c              18160.0   \n",
       "\n",
       "   CompetitionOpenSinceMonth  CompetitionOpenSinceYear  Promo2  \\\n",
       "0                        NaN                       NaN     1.0   \n",
       "1                        NaN                       NaN     1.0   \n",
       "2                        NaN                       NaN     1.0   \n",
       "3                        6.0                    2011.0     0.0   \n",
       "4                        NaN                       NaN     0.0   \n",
       "\n",
       "   Promo2SinceWeek  Promo2SinceYear     PromoInterval  Month  Year  Weekday  \n",
       "0             14.0           2013.0   Feb,May,Aug,Nov      1  2013        1  \n",
       "1             31.0           2013.0   Jan,Apr,Jul,Oct      1  2013        1  \n",
       "2              5.0           2013.0  Mar,Jun,Sept,Dec      1  2013        1  \n",
       "3              NaN              NaN               NaN      1  2013        1  \n",
       "4              NaN              NaN               NaN      1  2013        1  "
      ]
     },
     "execution_count": 3,
     "metadata": {},
     "output_type": "execute_result"
    }
   ],
   "source": [
    "# import data \n",
    "df = pd.read_csv(os.path.join(data_dir, 'df_clean.csv'))\n",
    "print(df.shape)\n",
    "df.head()"
   ]
  },
  {
   "cell_type": "markdown",
   "metadata": {},
   "source": [
    "## Check duplicates"
   ]
  },
  {
   "cell_type": "code",
   "execution_count": 4,
   "metadata": {},
   "outputs": [
    {
     "data": {
      "text/plain": [
       "0"
      ]
     },
     "execution_count": 4,
     "metadata": {},
     "output_type": "execute_result"
    }
   ],
   "source": [
    "df.duplicated().sum()"
   ]
  },
  {
   "cell_type": "markdown",
   "metadata": {},
   "source": [
    "## Check and fill missing values"
   ]
  },
  {
   "cell_type": "code",
   "execution_count": 5,
   "metadata": {},
   "outputs": [
    {
     "data": {
      "text/plain": [
       "Date                              0\n",
       "Store                             0\n",
       "Sales                             0\n",
       "Customers                     14984\n",
       "Open                          15010\n",
       "Promo                         15012\n",
       "StateHoliday                  15031\n",
       "SchoolHoliday                 15093\n",
       "StoreType                         0\n",
       "Assortment                        0\n",
       "CompetitionDistance            1305\n",
       "CompetitionOpenSinceMonth    158067\n",
       "CompetitionOpenSinceYear     158067\n",
       "Promo2                            0\n",
       "Promo2SinceWeek              244960\n",
       "Promo2SinceYear              244960\n",
       "PromoInterval                244960\n",
       "Month                             0\n",
       "Year                              0\n",
       "Weekday                           0\n",
       "dtype: int64"
      ]
     },
     "execution_count": 5,
     "metadata": {},
     "output_type": "execute_result"
    }
   ],
   "source": [
    "df.isnull().sum()"
   ]
  },
  {
   "cell_type": "code",
   "execution_count": 6,
   "metadata": {},
   "outputs": [],
   "source": [
    "# fill missing \"open\" data with 0 if sales is 0 else with mode\n",
    "mask = (df[\"Sales\"] == 0) & (df[\"Open\"].isna())\n",
    "df.loc[mask, \"Open\"] = df.loc[mask, \"Open\"].fillna(value=0)\n",
    "\n",
    "# fill remaining missing \"open\" data with mode\n",
    "mode = df[\"Open\"].mode()[0]\n",
    "df[\"Open\"].fillna(value=mode, inplace=True)"
   ]
  },
  {
   "cell_type": "code",
   "execution_count": 7,
   "metadata": {},
   "outputs": [],
   "source": [
    "# fill missing \"promo\" data with mode\n",
    "mode = df[\"Promo\"].mode()[0]\n",
    "df[\"Promo\"].fillna(value=mode, inplace=True)"
   ]
  },
  {
   "cell_type": "code",
   "execution_count": 8,
   "metadata": {},
   "outputs": [],
   "source": [
    "# fill missing \"SchoolHoliday\" data with mode\n",
    "mode = df[\"SchoolHoliday\"].mode()[0]\n",
    "df[\"SchoolHoliday\"].fillna(value=mode, inplace=True)"
   ]
  },
  {
   "cell_type": "code",
   "execution_count": 9,
   "metadata": {},
   "outputs": [],
   "source": [
    "# Create new feature Holiday, initially by default no holiday (0)\n",
    "df[\"Holiday\"] = 0\n",
    "\n",
    "# Whenever StateHoliday indicates a holiday make it 1\n",
    "mask = (df[\"StateHoliday\"].isin([\"a\", \"b\", \"c\"]))\n",
    "df.loc[mask, \"Holiday\"] = 1\n",
    "\n",
    "# Whenever StateHoliday is missing, but sales is 0 and store is closed, make it a holiday\n",
    "mask2 = ((df[\"StateHoliday\"].isna()) & (df[\"Sales\"] == 0) & (df[\"Open\"] == 0))\n",
    "df.loc[mask2, \"Holiday\"] = 1"
   ]
  },
  {
   "cell_type": "markdown",
   "metadata": {},
   "source": [
    "## Train test split"
   ]
  },
  {
   "cell_type": "code",
   "execution_count": 10,
   "metadata": {},
   "outputs": [
    {
     "name": "stdout",
     "output_type": "stream",
     "text": [
      "(497376,)\n",
      "(497376, 21)\n"
     ]
    }
   ],
   "source": [
    "# Get X and y\n",
    "y = df[\"Sales\"]\n",
    "X = df.copy()\n",
    "\n",
    "print(y.shape)\n",
    "print(X.shape)"
   ]
  },
  {
   "cell_type": "code",
   "execution_count": 11,
   "metadata": {},
   "outputs": [
    {
     "name": "stdout",
     "output_type": "stream",
     "text": [
      "(397900,)\n",
      "(397900, 21)\n",
      "(99476,)\n",
      "(99476, 21)\n"
     ]
    }
   ],
   "source": [
    "X_train, X_test, y_train, y_test = train_test_split(X, y, test_size=0.20, random_state=42)\n",
    "print(y_train.shape)\n",
    "print(X_train.shape)\n",
    "print(y_test.shape)\n",
    "print(X_test.shape)"
   ]
  },
  {
   "cell_type": "markdown",
   "metadata": {},
   "source": [
    "## Mean encode categorical variables"
   ]
  },
  {
   "cell_type": "code",
   "execution_count": 12,
   "metadata": {},
   "outputs": [
    {
     "name": "stderr",
     "output_type": "stream",
     "text": [
      "<ipython-input-12-4d6dd85c6fbf>:4: SettingWithCopyWarning: \n",
      "A value is trying to be set on a copy of a slice from a DataFrame.\n",
      "Try using .loc[row_indexer,col_indexer] = value instead\n",
      "\n",
      "See the caveats in the documentation: https://pandas.pydata.org/pandas-docs/stable/user_guide/indexing.html#returning-a-view-versus-a-copy\n",
      "  X_train['StoreType_enc'] = X_train['StoreType'].map(storetype_dict).fillna(X_train[\"Sales\"].mean())\n",
      "<ipython-input-12-4d6dd85c6fbf>:5: SettingWithCopyWarning: \n",
      "A value is trying to be set on a copy of a slice from a DataFrame.\n",
      "Try using .loc[row_indexer,col_indexer] = value instead\n",
      "\n",
      "See the caveats in the documentation: https://pandas.pydata.org/pandas-docs/stable/user_guide/indexing.html#returning-a-view-versus-a-copy\n",
      "  X_test['StoreType_enc'] = X_test['StoreType'].map(storetype_dict).fillna(X_train[\"Sales\"].mean())\n"
     ]
    }
   ],
   "source": [
    "# Get mean of target variable for StoreType - mean encoding\n",
    "storetype_dict = X_train.groupby(\"StoreType\").mean().loc[:, \"Sales\"].to_dict()\n",
    "#storetype_dict\n",
    "X_train['StoreType_enc'] = X_train['StoreType'].map(storetype_dict).fillna(X_train[\"Sales\"].mean())\n",
    "X_test['StoreType_enc'] = X_test['StoreType'].map(storetype_dict).fillna(X_train[\"Sales\"].mean())  "
   ]
  },
  {
   "cell_type": "code",
   "execution_count": 13,
   "metadata": {
    "scrolled": true
   },
   "outputs": [
    {
     "name": "stderr",
     "output_type": "stream",
     "text": [
      "<ipython-input-13-a6e67fa28ed8>:3: SettingWithCopyWarning: \n",
      "A value is trying to be set on a copy of a slice from a DataFrame.\n",
      "Try using .loc[row_indexer,col_indexer] = value instead\n",
      "\n",
      "See the caveats in the documentation: https://pandas.pydata.org/pandas-docs/stable/user_guide/indexing.html#returning-a-view-versus-a-copy\n",
      "  X_train['Assortment_enc'] = X_train.loc[:,'Assortment'].map(assortment_dict).fillna(X_train[\"Sales\"].mean())\n",
      "<ipython-input-13-a6e67fa28ed8>:4: SettingWithCopyWarning: \n",
      "A value is trying to be set on a copy of a slice from a DataFrame.\n",
      "Try using .loc[row_indexer,col_indexer] = value instead\n",
      "\n",
      "See the caveats in the documentation: https://pandas.pydata.org/pandas-docs/stable/user_guide/indexing.html#returning-a-view-versus-a-copy\n",
      "  X_test['Assortment_enc'] = X_test.loc[:,'Assortment'].map(assortment_dict).fillna(X_train[\"Sales\"].mean())\n"
     ]
    }
   ],
   "source": [
    "# Get mean of target variable for Assortment - mean encoding\n",
    "assortment_dict = X_train.groupby(\"Assortment\").mean().loc[:, \"Sales\"].to_dict()\n",
    "X_train['Assortment_enc'] = X_train.loc[:,'Assortment'].map(assortment_dict).fillna(X_train[\"Sales\"].mean())\n",
    "X_test['Assortment_enc'] = X_test.loc[:,'Assortment'].map(assortment_dict).fillna(X_train[\"Sales\"].mean()) "
   ]
  },
  {
   "cell_type": "code",
   "execution_count": 14,
   "metadata": {},
   "outputs": [
    {
     "name": "stderr",
     "output_type": "stream",
     "text": [
      "<ipython-input-14-aaced9650596>:3: SettingWithCopyWarning: \n",
      "A value is trying to be set on a copy of a slice from a DataFrame.\n",
      "Try using .loc[row_indexer,col_indexer] = value instead\n",
      "\n",
      "See the caveats in the documentation: https://pandas.pydata.org/pandas-docs/stable/user_guide/indexing.html#returning-a-view-versus-a-copy\n",
      "  X_train['Store_enc'] = X_train.loc[:,'Store'].map(storeid_dict).fillna(X_train[\"Sales\"].mean())\n",
      "<ipython-input-14-aaced9650596>:4: SettingWithCopyWarning: \n",
      "A value is trying to be set on a copy of a slice from a DataFrame.\n",
      "Try using .loc[row_indexer,col_indexer] = value instead\n",
      "\n",
      "See the caveats in the documentation: https://pandas.pydata.org/pandas-docs/stable/user_guide/indexing.html#returning-a-view-versus-a-copy\n",
      "  X_test['Store_enc'] = X_test.loc[:,'Store'].map(storeid_dict).fillna(X_train[\"Sales\"].mean())\n"
     ]
    }
   ],
   "source": [
    "# Get mean of target variable for Assortment - mean encoding\n",
    "storeid_dict = X_train.groupby(\"Store\").mean().loc[:, \"Sales\"].to_dict()\n",
    "X_train['Store_enc'] = X_train.loc[:,'Store'].map(storeid_dict).fillna(X_train[\"Sales\"].mean())\n",
    "X_test['Store_enc'] = X_test.loc[:,'Store'].map(storeid_dict).fillna(X_train[\"Sales\"].mean()) "
   ]
  },
  {
   "cell_type": "markdown",
   "metadata": {},
   "source": [
    "## Save files"
   ]
  },
  {
   "cell_type": "code",
   "execution_count": 15,
   "metadata": {},
   "outputs": [],
   "source": [
    "X_train.to_csv(os.path.join(data_dir, 'X_train.csv'), index=False)\n",
    "X_test.to_csv(os.path.join(data_dir, 'X_test.csv'), index=False)\n",
    "y_train.to_csv(os.path.join(data_dir, 'y_train.csv'), index=False)\n",
    "y_test.to_csv(os.path.join(data_dir, 'y_test.csv'), index=False)"
   ]
  }
 ],
 "metadata": {
  "kernelspec": {
   "display_name": "Python 3",
   "language": "python",
   "name": "python3"
  },
  "language_info": {
   "codemirror_mode": {
    "name": "ipython",
    "version": 3
   },
   "file_extension": ".py",
   "mimetype": "text/x-python",
   "name": "python",
   "nbconvert_exporter": "python",
   "pygments_lexer": "ipython3",
   "version": "3.9.6"
  }
 },
 "nbformat": 4,
 "nbformat_minor": 4
}
