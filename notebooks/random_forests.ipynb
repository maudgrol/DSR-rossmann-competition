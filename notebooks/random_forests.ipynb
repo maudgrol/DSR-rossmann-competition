{
 "cells": [
  {
   "cell_type": "markdown",
   "metadata": {},
   "source": [
    "# Random Forest model"
   ]
  },
  {
   "cell_type": "markdown",
   "metadata": {},
   "source": [
    "## Import data and set up"
   ]
  },
  {
   "cell_type": "code",
   "execution_count": 14,
   "metadata": {},
   "outputs": [],
   "source": [
    "# import relevant packages\n",
    "import os\n",
    "import pandas as pd\n",
    "import numpy as np\n",
    "import matplotlib.pyplot as plt\n",
    "from sklearn.ensemble import RandomForestRegressor\n",
    "from sklearn.model_selection import GridSearchCV\n",
    "from sklearn.metrics import make_scorer"
   ]
  },
  {
   "cell_type": "code",
   "execution_count": 2,
   "metadata": {},
   "outputs": [],
   "source": [
    "# set up paths\n",
    "data_dir = \"../data\""
   ]
  },
  {
   "cell_type": "code",
   "execution_count": 27,
   "metadata": {},
   "outputs": [
    {
     "name": "stdout",
     "output_type": "stream",
     "text": [
      "(397900, 24)\n",
      "(99476, 24)\n",
      "(397900, 1)\n",
      "(99476, 1)\n"
     ]
    }
   ],
   "source": [
    "# import data \n",
    "X_train = pd.read_csv(os.path.join(data_dir, 'X_train.csv'))\n",
    "X_test = pd.read_csv(os.path.join(data_dir, 'X_test.csv'))\n",
    "y_train = pd.read_csv(os.path.join(data_dir, 'y_train.csv'))\n",
    "y_test = pd.read_csv(os.path.join(data_dir, 'y_test.csv'))\n",
    "\n",
    "print(X_train.shape)\n",
    "print(X_test.shape)\n",
    "print(y_train.shape)\n",
    "print(y_test.shape)"
   ]
  },
  {
   "cell_type": "code",
   "execution_count": 4,
   "metadata": {},
   "outputs": [],
   "source": [
    "def metric(preds, actuals):\n",
    "    preds = preds.reshape(-1)\n",
    "    actuals = actuals.reshape(-1)\n",
    "    assert preds.shape == actuals.shape\n",
    "    return 100 * np.linalg.norm((actuals - preds) / actuals) / np.sqrt(preds.shape[0])"
   ]
  },
  {
   "cell_type": "code",
   "execution_count": 24,
   "metadata": {},
   "outputs": [
    {
     "data": {
      "text/plain": [
       "Index(['Date', 'Store', 'Sales', 'Customers', 'Open', 'Promo', 'StateHoliday',\n",
       "       'SchoolHoliday', 'StoreType', 'Assortment', 'CompetitionDistance',\n",
       "       'CompetitionOpenSinceMonth', 'CompetitionOpenSinceYear', 'Promo2',\n",
       "       'Promo2SinceWeek', 'Promo2SinceYear', 'PromoInterval', 'Month', 'Year',\n",
       "       'Weekday', 'Holiday', 'StoreType_enc', 'Assortment_enc', 'Store_enc'],\n",
       "      dtype='object')"
      ]
     },
     "execution_count": 24,
     "metadata": {},
     "output_type": "execute_result"
    }
   ],
   "source": [
    "X_train.columns"
   ]
  },
  {
   "cell_type": "code",
   "execution_count": 28,
   "metadata": {},
   "outputs": [
    {
     "name": "stdout",
     "output_type": "stream",
     "text": [
      "Index(['Open', 'Promo', 'SchoolHoliday', 'Month', 'Year', 'Weekday', 'Holiday',\n",
      "       'StoreType_enc', 'Assortment_enc', 'Store_enc'],\n",
      "      dtype='object')\n",
      "Index(['Open', 'Promo', 'SchoolHoliday', 'Month', 'Year', 'Weekday', 'Holiday',\n",
      "       'StoreType_enc', 'Assortment_enc', 'Store_enc'],\n",
      "      dtype='object')\n"
     ]
    }
   ],
   "source": [
    "train_cols = ['Open', 'Promo', 'SchoolHoliday', 'Month', 'Year',\n",
    "       'Weekday', 'Holiday', 'StoreType_enc', 'Assortment_enc', 'Store_enc']\n",
    "\n",
    "X_train = X_train[train_cols]\n",
    "X_test = X_test[train_cols]\n",
    "print(X_train.columns)\n",
    "print(X_test.columns)"
   ]
  },
  {
   "cell_type": "code",
   "execution_count": 29,
   "metadata": {},
   "outputs": [],
   "source": [
    "y_train = y_train.to_numpy().flatten()\n",
    "y_test = y_test.to_numpy().flatten()"
   ]
  },
  {
   "cell_type": "markdown",
   "metadata": {},
   "source": [
    "## Random Forest"
   ]
  },
  {
   "cell_type": "code",
   "execution_count": 15,
   "metadata": {},
   "outputs": [],
   "source": [
    "model = RandomForestRegressor(criterion=\"mse\", random_state=42)"
   ]
  },
  {
   "cell_type": "code",
   "execution_count": 38,
   "metadata": {},
   "outputs": [],
   "source": [
    "# define parameter space for grid search\n",
    "parameter_space = {\n",
    "    'n_estimators': [100, 150],\n",
    "    'max_features': [\"auto\", 0.8],\n",
    "    'max_depth': [5, 8]\n",
    "}\n",
    "\n",
    "# n_estimators = number of trees in the foreset\n",
    "# max_features = max number of features considered for splitting a node\n",
    "# max_depth = max number of levels in each decision tree\n",
    "# min_samples_split = min number of data points placed in a node before the node is split\n",
    "# min_samples_leaf = min number of data points allowed in a leaf node\n",
    "# bootstrap = method for sampling data points (with or without replacement)"
   ]
  },
  {
   "cell_type": "code",
   "execution_count": 39,
   "metadata": {},
   "outputs": [],
   "source": [
    "my_scorer = make_scorer(metric, greater_is_better=False)"
   ]
  },
  {
   "cell_type": "code",
   "execution_count": 40,
   "metadata": {},
   "outputs": [
    {
     "name": "stdout",
     "output_type": "stream",
     "text": [
      "CPU times: user 14min 22s, sys: 1min 36s, total: 15min 58s\n",
      "Wall time: 14min 13s\n"
     ]
    },
    {
     "data": {
      "text/plain": [
       "GridSearchCV(cv=5, estimator=RandomForestRegressor(random_state=42),\n",
       "             param_grid={'max_depth': [5, 8], 'max_features': ['auto', 0.8],\n",
       "                         'n_estimators': [100, 150]},\n",
       "             return_train_score=True,\n",
       "             scoring=make_scorer(metric, greater_is_better=False))"
      ]
     },
     "execution_count": 40,
     "metadata": {},
     "output_type": "execute_result"
    }
   ],
   "source": [
    "%%time\n",
    "regr = GridSearchCV(model, parameter_space, scoring=my_scorer, \n",
    "                   n_jobs=None, cv=5, return_train_score = True)\n",
    "regr.fit(X_train, y_train)"
   ]
  },
  {
   "cell_type": "code",
   "execution_count": 41,
   "metadata": {},
   "outputs": [
    {
     "name": "stdout",
     "output_type": "stream",
     "text": [
      "Best estimator:\n",
      " RandomForestRegressor(max_depth=8, max_features=0.8, random_state=42)\n",
      "Best parameters found:\n",
      " {'max_depth': 8, 'max_features': 0.8, 'n_estimators': 100}\n",
      "Scorer used on the held out data to choose the best parameters for the model: make_scorer(metric, greater_is_better=False)\n",
      "Best mean cross-validated score: -19.064212178229724\n"
     ]
    }
   ],
   "source": [
    "#Best estimator\n",
    "print('Best estimator:\\n', regr.best_estimator_)\n",
    "\n",
    "# Best parameter setting\n",
    "print('Best parameters found:\\n', regr.best_params_)\n",
    "\n",
    "# Scorer used on the held out data to choose best parameters for the model\n",
    "print('Scorer used on the held out data to choose the best parameters for the model:', regr.scorer_)\n",
    "\n",
    "# Mean cross-validated score of the best estimator\n",
    "print('Best mean cross-validated score:', regr.best_score_)"
   ]
  },
  {
   "cell_type": "code",
   "execution_count": 42,
   "metadata": {
    "scrolled": true
   },
   "outputs": [
    {
     "data": {
      "text/html": [
       "<div>\n",
       "<style scoped>\n",
       "    .dataframe tbody tr th:only-of-type {\n",
       "        vertical-align: middle;\n",
       "    }\n",
       "\n",
       "    .dataframe tbody tr th {\n",
       "        vertical-align: top;\n",
       "    }\n",
       "\n",
       "    .dataframe thead th {\n",
       "        text-align: right;\n",
       "    }\n",
       "</style>\n",
       "<table border=\"1\" class=\"dataframe\">\n",
       "  <thead>\n",
       "    <tr style=\"text-align: right;\">\n",
       "      <th></th>\n",
       "      <th>mean_fit_time</th>\n",
       "      <th>std_fit_time</th>\n",
       "      <th>mean_score_time</th>\n",
       "      <th>std_score_time</th>\n",
       "      <th>param_max_depth</th>\n",
       "      <th>param_max_features</th>\n",
       "      <th>param_n_estimators</th>\n",
       "      <th>params</th>\n",
       "      <th>split0_test_score</th>\n",
       "      <th>split1_test_score</th>\n",
       "      <th>...</th>\n",
       "      <th>mean_test_score</th>\n",
       "      <th>std_test_score</th>\n",
       "      <th>rank_test_score</th>\n",
       "      <th>split0_train_score</th>\n",
       "      <th>split1_train_score</th>\n",
       "      <th>split2_train_score</th>\n",
       "      <th>split3_train_score</th>\n",
       "      <th>split4_train_score</th>\n",
       "      <th>mean_train_score</th>\n",
       "      <th>std_train_score</th>\n",
       "    </tr>\n",
       "  </thead>\n",
       "  <tbody>\n",
       "    <tr>\n",
       "      <th>0</th>\n",
       "      <td>13.370069</td>\n",
       "      <td>0.151149</td>\n",
       "      <td>0.258208</td>\n",
       "      <td>0.007395</td>\n",
       "      <td>5</td>\n",
       "      <td>auto</td>\n",
       "      <td>100</td>\n",
       "      <td>{'max_depth': 5, 'max_features': 'auto', 'n_es...</td>\n",
       "      <td>-21.415396</td>\n",
       "      <td>-21.759289</td>\n",
       "      <td>...</td>\n",
       "      <td>-21.545982</td>\n",
       "      <td>0.140817</td>\n",
       "      <td>7</td>\n",
       "      <td>-21.494293</td>\n",
       "      <td>-21.479182</td>\n",
       "      <td>-21.488070</td>\n",
       "      <td>-21.572581</td>\n",
       "      <td>-21.570554</td>\n",
       "      <td>-21.520936</td>\n",
       "      <td>0.041623</td>\n",
       "    </tr>\n",
       "    <tr>\n",
       "      <th>1</th>\n",
       "      <td>19.959316</td>\n",
       "      <td>0.311081</td>\n",
       "      <td>0.384933</td>\n",
       "      <td>0.003949</td>\n",
       "      <td>5</td>\n",
       "      <td>auto</td>\n",
       "      <td>150</td>\n",
       "      <td>{'max_depth': 5, 'max_features': 'auto', 'n_es...</td>\n",
       "      <td>-21.422286</td>\n",
       "      <td>-21.767489</td>\n",
       "      <td>...</td>\n",
       "      <td>-21.551618</td>\n",
       "      <td>0.140744</td>\n",
       "      <td>8</td>\n",
       "      <td>-21.501236</td>\n",
       "      <td>-21.485892</td>\n",
       "      <td>-21.495927</td>\n",
       "      <td>-21.574965</td>\n",
       "      <td>-21.573170</td>\n",
       "      <td>-21.526238</td>\n",
       "      <td>0.039366</td>\n",
       "    </tr>\n",
       "    <tr>\n",
       "      <th>2</th>\n",
       "      <td>10.813128</td>\n",
       "      <td>0.059437</td>\n",
       "      <td>0.253260</td>\n",
       "      <td>0.002263</td>\n",
       "      <td>5</td>\n",
       "      <td>0.8</td>\n",
       "      <td>100</td>\n",
       "      <td>{'max_depth': 5, 'max_features': 0.8, 'n_estim...</td>\n",
       "      <td>-20.755215</td>\n",
       "      <td>-21.126859</td>\n",
       "      <td>...</td>\n",
       "      <td>-20.903387</td>\n",
       "      <td>0.134139</td>\n",
       "      <td>5</td>\n",
       "      <td>-20.886677</td>\n",
       "      <td>-20.842708</td>\n",
       "      <td>-20.861567</td>\n",
       "      <td>-20.935301</td>\n",
       "      <td>-20.873964</td>\n",
       "      <td>-20.880043</td>\n",
       "      <td>0.031208</td>\n",
       "    </tr>\n",
       "    <tr>\n",
       "      <th>3</th>\n",
       "      <td>16.284521</td>\n",
       "      <td>0.074947</td>\n",
       "      <td>0.379905</td>\n",
       "      <td>0.003559</td>\n",
       "      <td>5</td>\n",
       "      <td>0.8</td>\n",
       "      <td>150</td>\n",
       "      <td>{'max_depth': 5, 'max_features': 0.8, 'n_estim...</td>\n",
       "      <td>-20.755028</td>\n",
       "      <td>-21.131500</td>\n",
       "      <td>...</td>\n",
       "      <td>-20.907432</td>\n",
       "      <td>0.137396</td>\n",
       "      <td>6</td>\n",
       "      <td>-20.884581</td>\n",
       "      <td>-20.845261</td>\n",
       "      <td>-20.867934</td>\n",
       "      <td>-20.936503</td>\n",
       "      <td>-20.884090</td>\n",
       "      <td>-20.883674</td>\n",
       "      <td>0.030051</td>\n",
       "    </tr>\n",
       "    <tr>\n",
       "      <th>4</th>\n",
       "      <td>19.572977</td>\n",
       "      <td>0.182223</td>\n",
       "      <td>0.392423</td>\n",
       "      <td>0.003293</td>\n",
       "      <td>8</td>\n",
       "      <td>auto</td>\n",
       "      <td>100</td>\n",
       "      <td>{'max_depth': 8, 'max_features': 'auto', 'n_es...</td>\n",
       "      <td>-19.157266</td>\n",
       "      <td>-19.379854</td>\n",
       "      <td>...</td>\n",
       "      <td>-19.242967</td>\n",
       "      <td>0.124519</td>\n",
       "      <td>4</td>\n",
       "      <td>-19.184469</td>\n",
       "      <td>-19.120182</td>\n",
       "      <td>-19.172973</td>\n",
       "      <td>-19.240086</td>\n",
       "      <td>-19.169185</td>\n",
       "      <td>-19.177379</td>\n",
       "      <td>0.038316</td>\n",
       "    </tr>\n",
       "    <tr>\n",
       "      <th>5</th>\n",
       "      <td>29.469988</td>\n",
       "      <td>0.186869</td>\n",
       "      <td>0.585345</td>\n",
       "      <td>0.004954</td>\n",
       "      <td>8</td>\n",
       "      <td>auto</td>\n",
       "      <td>150</td>\n",
       "      <td>{'max_depth': 8, 'max_features': 'auto', 'n_es...</td>\n",
       "      <td>-19.152774</td>\n",
       "      <td>-19.383862</td>\n",
       "      <td>...</td>\n",
       "      <td>-19.242585</td>\n",
       "      <td>0.124261</td>\n",
       "      <td>3</td>\n",
       "      <td>-19.180643</td>\n",
       "      <td>-19.123344</td>\n",
       "      <td>-19.168198</td>\n",
       "      <td>-19.242979</td>\n",
       "      <td>-19.166780</td>\n",
       "      <td>-19.176389</td>\n",
       "      <td>0.038537</td>\n",
       "    </tr>\n",
       "    <tr>\n",
       "      <th>6</th>\n",
       "      <td>16.823943</td>\n",
       "      <td>1.605795</td>\n",
       "      <td>0.395529</td>\n",
       "      <td>0.002626</td>\n",
       "      <td>8</td>\n",
       "      <td>0.8</td>\n",
       "      <td>100</td>\n",
       "      <td>{'max_depth': 8, 'max_features': 0.8, 'n_estim...</td>\n",
       "      <td>-18.956610</td>\n",
       "      <td>-19.213687</td>\n",
       "      <td>...</td>\n",
       "      <td>-19.064212</td>\n",
       "      <td>0.127687</td>\n",
       "      <td>1</td>\n",
       "      <td>-19.019551</td>\n",
       "      <td>-18.936606</td>\n",
       "      <td>-18.999889</td>\n",
       "      <td>-19.050410</td>\n",
       "      <td>-18.972073</td>\n",
       "      <td>-18.995706</td>\n",
       "      <td>0.039064</td>\n",
       "    </tr>\n",
       "    <tr>\n",
       "      <th>7</th>\n",
       "      <td>24.163557</td>\n",
       "      <td>0.169408</td>\n",
       "      <td>0.589849</td>\n",
       "      <td>0.004114</td>\n",
       "      <td>8</td>\n",
       "      <td>0.8</td>\n",
       "      <td>150</td>\n",
       "      <td>{'max_depth': 8, 'max_features': 0.8, 'n_estim...</td>\n",
       "      <td>-18.960513</td>\n",
       "      <td>-19.228252</td>\n",
       "      <td>...</td>\n",
       "      <td>-19.068232</td>\n",
       "      <td>0.130292</td>\n",
       "      <td>2</td>\n",
       "      <td>-19.022454</td>\n",
       "      <td>-18.948996</td>\n",
       "      <td>-19.001489</td>\n",
       "      <td>-19.054326</td>\n",
       "      <td>-18.975435</td>\n",
       "      <td>-19.000540</td>\n",
       "      <td>0.036500</td>\n",
       "    </tr>\n",
       "  </tbody>\n",
       "</table>\n",
       "<p>8 rows × 23 columns</p>\n",
       "</div>"
      ],
      "text/plain": [
       "   mean_fit_time  std_fit_time  mean_score_time  std_score_time  \\\n",
       "0      13.370069      0.151149         0.258208        0.007395   \n",
       "1      19.959316      0.311081         0.384933        0.003949   \n",
       "2      10.813128      0.059437         0.253260        0.002263   \n",
       "3      16.284521      0.074947         0.379905        0.003559   \n",
       "4      19.572977      0.182223         0.392423        0.003293   \n",
       "5      29.469988      0.186869         0.585345        0.004954   \n",
       "6      16.823943      1.605795         0.395529        0.002626   \n",
       "7      24.163557      0.169408         0.589849        0.004114   \n",
       "\n",
       "  param_max_depth param_max_features param_n_estimators  \\\n",
       "0               5               auto                100   \n",
       "1               5               auto                150   \n",
       "2               5                0.8                100   \n",
       "3               5                0.8                150   \n",
       "4               8               auto                100   \n",
       "5               8               auto                150   \n",
       "6               8                0.8                100   \n",
       "7               8                0.8                150   \n",
       "\n",
       "                                              params  split0_test_score  \\\n",
       "0  {'max_depth': 5, 'max_features': 'auto', 'n_es...         -21.415396   \n",
       "1  {'max_depth': 5, 'max_features': 'auto', 'n_es...         -21.422286   \n",
       "2  {'max_depth': 5, 'max_features': 0.8, 'n_estim...         -20.755215   \n",
       "3  {'max_depth': 5, 'max_features': 0.8, 'n_estim...         -20.755028   \n",
       "4  {'max_depth': 8, 'max_features': 'auto', 'n_es...         -19.157266   \n",
       "5  {'max_depth': 8, 'max_features': 'auto', 'n_es...         -19.152774   \n",
       "6  {'max_depth': 8, 'max_features': 0.8, 'n_estim...         -18.956610   \n",
       "7  {'max_depth': 8, 'max_features': 0.8, 'n_estim...         -18.960513   \n",
       "\n",
       "   split1_test_score  ...  mean_test_score  std_test_score  rank_test_score  \\\n",
       "0         -21.759289  ...       -21.545982        0.140817                7   \n",
       "1         -21.767489  ...       -21.551618        0.140744                8   \n",
       "2         -21.126859  ...       -20.903387        0.134139                5   \n",
       "3         -21.131500  ...       -20.907432        0.137396                6   \n",
       "4         -19.379854  ...       -19.242967        0.124519                4   \n",
       "5         -19.383862  ...       -19.242585        0.124261                3   \n",
       "6         -19.213687  ...       -19.064212        0.127687                1   \n",
       "7         -19.228252  ...       -19.068232        0.130292                2   \n",
       "\n",
       "   split0_train_score  split1_train_score  split2_train_score  \\\n",
       "0          -21.494293          -21.479182          -21.488070   \n",
       "1          -21.501236          -21.485892          -21.495927   \n",
       "2          -20.886677          -20.842708          -20.861567   \n",
       "3          -20.884581          -20.845261          -20.867934   \n",
       "4          -19.184469          -19.120182          -19.172973   \n",
       "5          -19.180643          -19.123344          -19.168198   \n",
       "6          -19.019551          -18.936606          -18.999889   \n",
       "7          -19.022454          -18.948996          -19.001489   \n",
       "\n",
       "   split3_train_score  split4_train_score  mean_train_score  std_train_score  \n",
       "0          -21.572581          -21.570554        -21.520936         0.041623  \n",
       "1          -21.574965          -21.573170        -21.526238         0.039366  \n",
       "2          -20.935301          -20.873964        -20.880043         0.031208  \n",
       "3          -20.936503          -20.884090        -20.883674         0.030051  \n",
       "4          -19.240086          -19.169185        -19.177379         0.038316  \n",
       "5          -19.242979          -19.166780        -19.176389         0.038537  \n",
       "6          -19.050410          -18.972073        -18.995706         0.039064  \n",
       "7          -19.054326          -18.975435        -19.000540         0.036500  \n",
       "\n",
       "[8 rows x 23 columns]"
      ]
     },
     "execution_count": 42,
     "metadata": {},
     "output_type": "execute_result"
    }
   ],
   "source": [
    "# All results\n",
    "cv_results = pd.DataFrame.from_dict(regr.cv_results_)\n",
    "cv_results"
   ]
  },
  {
   "cell_type": "code",
   "execution_count": 43,
   "metadata": {},
   "outputs": [
    {
     "name": "stdout",
     "output_type": "stream",
     "text": [
      "24.40313367243775\n"
     ]
    }
   ],
   "source": [
    "y_pred = regr.predict(X_test)\n",
    "value = metric(y_pred, y_test)\n",
    "print(value)"
   ]
  }
 ],
 "metadata": {
  "kernelspec": {
   "display_name": "Python 3",
   "language": "python",
   "name": "python3"
  },
  "language_info": {
   "codemirror_mode": {
    "name": "ipython",
    "version": 3
   },
   "file_extension": ".py",
   "mimetype": "text/x-python",
   "name": "python",
   "nbconvert_exporter": "python",
   "pygments_lexer": "ipython3",
   "version": "3.9.6"
  }
 },
 "nbformat": 4,
 "nbformat_minor": 4
}
