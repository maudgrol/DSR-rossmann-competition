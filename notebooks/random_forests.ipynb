{
 "cells": [
  {
   "cell_type": "markdown",
   "metadata": {},
   "source": [
    "# Random Forest model"
   ]
  },
  {
   "cell_type": "markdown",
   "metadata": {},
   "source": [
    "## Import data and set up"
   ]
  },
  {
   "cell_type": "code",
   "execution_count": 27,
   "metadata": {},
   "outputs": [],
   "source": [
    "# import relevant packages\n",
    "import os\n",
    "import pandas as pd\n",
    "import numpy as np\n",
    "import matplotlib.pyplot as plt\n",
    "from sklearn.ensemble import RandomForestRegressor\n",
    "from sklearn.model_selection import GridSearchCV\n",
    "from sklearn.metrics import make_scorer\n",
    "\n",
    "%matplotlib inline"
   ]
  },
  {
   "cell_type": "code",
   "execution_count": 2,
   "metadata": {},
   "outputs": [],
   "source": [
    "# set up paths\n",
    "data_dir = \"../data\""
   ]
  },
  {
   "cell_type": "code",
   "execution_count": 11,
   "metadata": {},
   "outputs": [
    {
     "name": "stdout",
     "output_type": "stream",
     "text": [
      "(397900, 25)\n",
      "(99476, 25)\n",
      "(397900, 1)\n",
      "(99476, 1)\n"
     ]
    }
   ],
   "source": [
    "# import data \n",
    "X_train = pd.read_csv(os.path.join(data_dir, 'X_train.csv'))\n",
    "X_test = pd.read_csv(os.path.join(data_dir, 'X_test.csv'))\n",
    "y_train = pd.read_csv(os.path.join(data_dir, 'y_train.csv'))\n",
    "y_test = pd.read_csv(os.path.join(data_dir, 'y_test.csv'))\n",
    "\n",
    "print(X_train.shape)\n",
    "print(X_test.shape)\n",
    "print(y_train.shape)\n",
    "print(y_test.shape)"
   ]
  },
  {
   "cell_type": "code",
   "execution_count": 12,
   "metadata": {},
   "outputs": [],
   "source": [
    "def metric(preds, actuals):\n",
    "    preds = preds.reshape(-1)\n",
    "    actuals = actuals.reshape(-1)\n",
    "    assert preds.shape == actuals.shape\n",
    "    return 100 * np.linalg.norm((actuals - preds) / actuals) / np.sqrt(preds.shape[0])"
   ]
  },
  {
   "cell_type": "code",
   "execution_count": 13,
   "metadata": {},
   "outputs": [
    {
     "data": {
      "text/plain": [
       "Index(['Date', 'Store', 'Sales', 'Customers', 'Open', 'Promo', 'StateHoliday',\n",
       "       'SchoolHoliday', 'StoreType', 'Assortment', 'CompetitionDistance',\n",
       "       'CompetitionOpenSinceMonth', 'CompetitionOpenSinceYear', 'Promo2',\n",
       "       'Promo2SinceWeek', 'Promo2SinceYear', 'PromoInterval', 'Month', 'Year',\n",
       "       'Weekday', 'Holiday', 'Customers_enc', 'StoreType_enc',\n",
       "       'Assortment_enc', 'Store_enc'],\n",
       "      dtype='object')"
      ]
     },
     "execution_count": 13,
     "metadata": {},
     "output_type": "execute_result"
    }
   ],
   "source": [
    "X_train.columns"
   ]
  },
  {
   "cell_type": "code",
   "execution_count": 14,
   "metadata": {},
   "outputs": [
    {
     "name": "stderr",
     "output_type": "stream",
     "text": [
      "<ipython-input-14-390440bdf730>:2: FutureWarning: Dropping of nuisance columns in DataFrame reductions (with 'numeric_only=None') is deprecated; in a future version this will raise TypeError.  Select only valid columns before calling the reduction.\n",
      "  novar_cols = [colname for colname in X_train.var().index if X_train.var()[colname]==0]\n"
     ]
    },
    {
     "data": {
      "text/plain": [
       "['Open']"
      ]
     },
     "execution_count": 14,
     "metadata": {},
     "output_type": "execute_result"
    }
   ],
   "source": [
    "# Check features that have no variance\n",
    "novar_cols = [colname for colname in X_train.var().index if X_train.var()[colname]==0]\n",
    "novar_cols"
   ]
  },
  {
   "cell_type": "code",
   "execution_count": 15,
   "metadata": {},
   "outputs": [
    {
     "name": "stdout",
     "output_type": "stream",
     "text": [
      "Index(['Promo', 'SchoolHoliday', 'CompetitionDistance', 'Month', 'Weekday',\n",
      "       'Holiday', 'Customers_enc', 'StoreType_enc', 'Assortment_enc',\n",
      "       'Store_enc'],\n",
      "      dtype='object')\n",
      "Index(['Promo', 'SchoolHoliday', 'CompetitionDistance', 'Month', 'Weekday',\n",
      "       'Holiday', 'Customers_enc', 'StoreType_enc', 'Assortment_enc',\n",
      "       'Store_enc'],\n",
      "      dtype='object')\n"
     ]
    }
   ],
   "source": [
    "train_cols = ['Promo', 'SchoolHoliday', 'CompetitionDistance', 'Month',\n",
    "              'Weekday', 'Holiday', 'Customers_enc', 'StoreType_enc', \n",
    "              'Assortment_enc', 'Store_enc']\n",
    "\n",
    "X_train = X_train[train_cols]\n",
    "X_test = X_test[train_cols]\n",
    "print(X_train.columns)\n",
    "print(X_test.columns)"
   ]
  },
  {
   "cell_type": "code",
   "execution_count": 16,
   "metadata": {},
   "outputs": [],
   "source": [
    "y_train = y_train.to_numpy().flatten()\n",
    "y_test = y_test.to_numpy().flatten()"
   ]
  },
  {
   "cell_type": "markdown",
   "metadata": {},
   "source": [
    "## Random Forest"
   ]
  },
  {
   "cell_type": "code",
   "execution_count": 17,
   "metadata": {},
   "outputs": [],
   "source": [
    "model = RandomForestRegressor(criterion=\"mse\", random_state=42)"
   ]
  },
  {
   "cell_type": "code",
   "execution_count": 18,
   "metadata": {},
   "outputs": [],
   "source": [
    "# define parameter space for grid search\n",
    "parameter_space = {\n",
    "    'n_estimators': [100, 150],\n",
    "    'max_features': [0.6, 0.8],\n",
    "    'max_depth': [5, 8]\n",
    "}\n",
    "\n",
    "# n_estimators = number of trees in the foreset\n",
    "# max_features = max number of features considered for splitting a node\n",
    "# max_depth = max number of levels in each decision tree\n",
    "# min_samples_split = min number of data points placed in a node before the node is split\n",
    "# min_samples_leaf = min number of data points allowed in a leaf node\n",
    "# bootstrap = method for sampling data points (with or without replacement)"
   ]
  },
  {
   "cell_type": "code",
   "execution_count": 19,
   "metadata": {},
   "outputs": [],
   "source": [
    "my_scorer = make_scorer(metric, greater_is_better=False)"
   ]
  },
  {
   "cell_type": "code",
   "execution_count": 20,
   "metadata": {},
   "outputs": [
    {
     "name": "stdout",
     "output_type": "stream",
     "text": [
      "CPU times: user 16min 23s, sys: 17.2 s, total: 16min 41s\n",
      "Wall time: 18min 6s\n"
     ]
    },
    {
     "data": {
      "text/plain": [
       "GridSearchCV(cv=5, estimator=RandomForestRegressor(random_state=42),\n",
       "             param_grid={'max_depth': [5, 8], 'max_features': [0.6, 0.8],\n",
       "                         'n_estimators': [100, 150]},\n",
       "             return_train_score=True,\n",
       "             scoring=make_scorer(metric, greater_is_better=False))"
      ]
     },
     "execution_count": 20,
     "metadata": {},
     "output_type": "execute_result"
    }
   ],
   "source": [
    "%%time\n",
    "regr = GridSearchCV(model, parameter_space, scoring=my_scorer, \n",
    "                   n_jobs=None, cv=5, return_train_score = True)\n",
    "regr.fit(X_train, y_train)"
   ]
  },
  {
   "cell_type": "code",
   "execution_count": 21,
   "metadata": {},
   "outputs": [
    {
     "name": "stdout",
     "output_type": "stream",
     "text": [
      "Best estimator:\n",
      " RandomForestRegressor(max_depth=8, max_features=0.6, n_estimators=150,\n",
      "                      random_state=42)\n",
      "Best parameters found:\n",
      " {'max_depth': 8, 'max_features': 0.6, 'n_estimators': 150}\n",
      "Scorer used on the held out data to choose the best parameters for the model: make_scorer(metric, greater_is_better=False)\n",
      "Best mean cross-validated score: -18.94725962282999\n"
     ]
    }
   ],
   "source": [
    "#Best estimator\n",
    "print('Best estimator:\\n', regr.best_estimator_)\n",
    "\n",
    "# Best parameter setting\n",
    "print('Best parameters found:\\n', regr.best_params_)\n",
    "\n",
    "# Scorer used on the held out data to choose best parameters for the model\n",
    "print('Scorer used on the held out data to choose the best parameters for the model:', regr.scorer_)\n",
    "\n",
    "# Mean cross-validated score of the best estimator\n",
    "print('Best mean cross-validated score:', regr.best_score_)"
   ]
  },
  {
   "cell_type": "code",
   "execution_count": 22,
   "metadata": {
    "scrolled": true
   },
   "outputs": [
    {
     "data": {
      "text/html": [
       "<div>\n",
       "<style scoped>\n",
       "    .dataframe tbody tr th:only-of-type {\n",
       "        vertical-align: middle;\n",
       "    }\n",
       "\n",
       "    .dataframe tbody tr th {\n",
       "        vertical-align: top;\n",
       "    }\n",
       "\n",
       "    .dataframe thead th {\n",
       "        text-align: right;\n",
       "    }\n",
       "</style>\n",
       "<table border=\"1\" class=\"dataframe\">\n",
       "  <thead>\n",
       "    <tr style=\"text-align: right;\">\n",
       "      <th></th>\n",
       "      <th>mean_fit_time</th>\n",
       "      <th>std_fit_time</th>\n",
       "      <th>mean_score_time</th>\n",
       "      <th>std_score_time</th>\n",
       "      <th>param_max_depth</th>\n",
       "      <th>param_max_features</th>\n",
       "      <th>param_n_estimators</th>\n",
       "      <th>params</th>\n",
       "      <th>split0_test_score</th>\n",
       "      <th>split1_test_score</th>\n",
       "      <th>...</th>\n",
       "      <th>mean_test_score</th>\n",
       "      <th>std_test_score</th>\n",
       "      <th>rank_test_score</th>\n",
       "      <th>split0_train_score</th>\n",
       "      <th>split1_train_score</th>\n",
       "      <th>split2_train_score</th>\n",
       "      <th>split3_train_score</th>\n",
       "      <th>split4_train_score</th>\n",
       "      <th>mean_train_score</th>\n",
       "      <th>std_train_score</th>\n",
       "    </tr>\n",
       "  </thead>\n",
       "  <tbody>\n",
       "    <tr>\n",
       "      <th>0</th>\n",
       "      <td>11.183960</td>\n",
       "      <td>0.122473</td>\n",
       "      <td>0.261417</td>\n",
       "      <td>0.001058</td>\n",
       "      <td>5</td>\n",
       "      <td>0.6</td>\n",
       "      <td>100</td>\n",
       "      <td>{'max_depth': 5, 'max_features': 0.6, 'n_estim...</td>\n",
       "      <td>-20.878259</td>\n",
       "      <td>-21.199966</td>\n",
       "      <td>...</td>\n",
       "      <td>-21.011389</td>\n",
       "      <td>0.113530</td>\n",
       "      <td>6</td>\n",
       "      <td>-20.997400</td>\n",
       "      <td>-20.953789</td>\n",
       "      <td>-20.979164</td>\n",
       "      <td>-21.015521</td>\n",
       "      <td>-20.979529</td>\n",
       "      <td>-20.985081</td>\n",
       "      <td>0.020608</td>\n",
       "    </tr>\n",
       "    <tr>\n",
       "      <th>1</th>\n",
       "      <td>16.718653</td>\n",
       "      <td>0.129006</td>\n",
       "      <td>0.386717</td>\n",
       "      <td>0.001297</td>\n",
       "      <td>5</td>\n",
       "      <td>0.6</td>\n",
       "      <td>150</td>\n",
       "      <td>{'max_depth': 5, 'max_features': 0.6, 'n_estim...</td>\n",
       "      <td>-20.824340</td>\n",
       "      <td>-21.155027</td>\n",
       "      <td>...</td>\n",
       "      <td>-20.968471</td>\n",
       "      <td>0.114939</td>\n",
       "      <td>5</td>\n",
       "      <td>-20.943240</td>\n",
       "      <td>-20.910884</td>\n",
       "      <td>-20.942337</td>\n",
       "      <td>-20.977691</td>\n",
       "      <td>-20.938673</td>\n",
       "      <td>-20.942565</td>\n",
       "      <td>0.021228</td>\n",
       "    </tr>\n",
       "    <tr>\n",
       "      <th>2</th>\n",
       "      <td>15.955496</td>\n",
       "      <td>3.471641</td>\n",
       "      <td>0.262085</td>\n",
       "      <td>0.001777</td>\n",
       "      <td>5</td>\n",
       "      <td>0.8</td>\n",
       "      <td>100</td>\n",
       "      <td>{'max_depth': 5, 'max_features': 0.8, 'n_estim...</td>\n",
       "      <td>-20.989288</td>\n",
       "      <td>-21.287187</td>\n",
       "      <td>...</td>\n",
       "      <td>-21.102549</td>\n",
       "      <td>0.117325</td>\n",
       "      <td>7</td>\n",
       "      <td>-21.073190</td>\n",
       "      <td>-21.037733</td>\n",
       "      <td>-21.052296</td>\n",
       "      <td>-21.114312</td>\n",
       "      <td>-21.092137</td>\n",
       "      <td>-21.073934</td>\n",
       "      <td>0.027353</td>\n",
       "    </tr>\n",
       "    <tr>\n",
       "      <th>3</th>\n",
       "      <td>21.341975</td>\n",
       "      <td>0.067508</td>\n",
       "      <td>0.392340</td>\n",
       "      <td>0.002779</td>\n",
       "      <td>5</td>\n",
       "      <td>0.8</td>\n",
       "      <td>150</td>\n",
       "      <td>{'max_depth': 5, 'max_features': 0.8, 'n_estim...</td>\n",
       "      <td>-21.010018</td>\n",
       "      <td>-21.292031</td>\n",
       "      <td>...</td>\n",
       "      <td>-21.110516</td>\n",
       "      <td>0.114126</td>\n",
       "      <td>8</td>\n",
       "      <td>-21.093648</td>\n",
       "      <td>-21.038419</td>\n",
       "      <td>-21.068620</td>\n",
       "      <td>-21.117122</td>\n",
       "      <td>-21.093817</td>\n",
       "      <td>-21.082325</td>\n",
       "      <td>0.026783</td>\n",
       "    </tr>\n",
       "    <tr>\n",
       "      <th>4</th>\n",
       "      <td>16.324466</td>\n",
       "      <td>0.161483</td>\n",
       "      <td>0.397848</td>\n",
       "      <td>0.003084</td>\n",
       "      <td>8</td>\n",
       "      <td>0.6</td>\n",
       "      <td>100</td>\n",
       "      <td>{'max_depth': 8, 'max_features': 0.6, 'n_estim...</td>\n",
       "      <td>-18.865531</td>\n",
       "      <td>-19.114565</td>\n",
       "      <td>...</td>\n",
       "      <td>-18.953061</td>\n",
       "      <td>0.131024</td>\n",
       "      <td>2</td>\n",
       "      <td>-18.904499</td>\n",
       "      <td>-18.840073</td>\n",
       "      <td>-18.858518</td>\n",
       "      <td>-18.920044</td>\n",
       "      <td>-18.860982</td>\n",
       "      <td>-18.876823</td>\n",
       "      <td>0.030234</td>\n",
       "    </tr>\n",
       "    <tr>\n",
       "      <th>5</th>\n",
       "      <td>61.002110</td>\n",
       "      <td>73.328173</td>\n",
       "      <td>0.595690</td>\n",
       "      <td>0.005095</td>\n",
       "      <td>8</td>\n",
       "      <td>0.6</td>\n",
       "      <td>150</td>\n",
       "      <td>{'max_depth': 8, 'max_features': 0.6, 'n_estim...</td>\n",
       "      <td>-18.854329</td>\n",
       "      <td>-19.107515</td>\n",
       "      <td>...</td>\n",
       "      <td>-18.947260</td>\n",
       "      <td>0.132570</td>\n",
       "      <td>1</td>\n",
       "      <td>-18.895327</td>\n",
       "      <td>-18.830199</td>\n",
       "      <td>-18.850992</td>\n",
       "      <td>-18.912608</td>\n",
       "      <td>-18.863833</td>\n",
       "      <td>-18.870592</td>\n",
       "      <td>0.029795</td>\n",
       "    </tr>\n",
       "    <tr>\n",
       "      <th>6</th>\n",
       "      <td>20.740716</td>\n",
       "      <td>0.157861</td>\n",
       "      <td>0.397967</td>\n",
       "      <td>0.002882</td>\n",
       "      <td>8</td>\n",
       "      <td>0.8</td>\n",
       "      <td>100</td>\n",
       "      <td>{'max_depth': 8, 'max_features': 0.8, 'n_estim...</td>\n",
       "      <td>-18.937581</td>\n",
       "      <td>-19.189236</td>\n",
       "      <td>...</td>\n",
       "      <td>-19.039534</td>\n",
       "      <td>0.131144</td>\n",
       "      <td>3</td>\n",
       "      <td>-18.969601</td>\n",
       "      <td>-18.920898</td>\n",
       "      <td>-18.967186</td>\n",
       "      <td>-19.019751</td>\n",
       "      <td>-18.946463</td>\n",
       "      <td>-18.964779</td>\n",
       "      <td>0.032594</td>\n",
       "    </tr>\n",
       "    <tr>\n",
       "      <th>7</th>\n",
       "      <td>30.904873</td>\n",
       "      <td>0.088811</td>\n",
       "      <td>0.595973</td>\n",
       "      <td>0.005023</td>\n",
       "      <td>8</td>\n",
       "      <td>0.8</td>\n",
       "      <td>150</td>\n",
       "      <td>{'max_depth': 8, 'max_features': 0.8, 'n_estim...</td>\n",
       "      <td>-18.931384</td>\n",
       "      <td>-19.195153</td>\n",
       "      <td>...</td>\n",
       "      <td>-19.040604</td>\n",
       "      <td>0.132121</td>\n",
       "      <td>4</td>\n",
       "      <td>-18.964997</td>\n",
       "      <td>-18.921992</td>\n",
       "      <td>-18.970358</td>\n",
       "      <td>-19.023579</td>\n",
       "      <td>-18.943427</td>\n",
       "      <td>-18.964871</td>\n",
       "      <td>0.033986</td>\n",
       "    </tr>\n",
       "  </tbody>\n",
       "</table>\n",
       "<p>8 rows × 23 columns</p>\n",
       "</div>"
      ],
      "text/plain": [
       "   mean_fit_time  std_fit_time  mean_score_time  std_score_time  \\\n",
       "0      11.183960      0.122473         0.261417        0.001058   \n",
       "1      16.718653      0.129006         0.386717        0.001297   \n",
       "2      15.955496      3.471641         0.262085        0.001777   \n",
       "3      21.341975      0.067508         0.392340        0.002779   \n",
       "4      16.324466      0.161483         0.397848        0.003084   \n",
       "5      61.002110     73.328173         0.595690        0.005095   \n",
       "6      20.740716      0.157861         0.397967        0.002882   \n",
       "7      30.904873      0.088811         0.595973        0.005023   \n",
       "\n",
       "  param_max_depth param_max_features param_n_estimators  \\\n",
       "0               5                0.6                100   \n",
       "1               5                0.6                150   \n",
       "2               5                0.8                100   \n",
       "3               5                0.8                150   \n",
       "4               8                0.6                100   \n",
       "5               8                0.6                150   \n",
       "6               8                0.8                100   \n",
       "7               8                0.8                150   \n",
       "\n",
       "                                              params  split0_test_score  \\\n",
       "0  {'max_depth': 5, 'max_features': 0.6, 'n_estim...         -20.878259   \n",
       "1  {'max_depth': 5, 'max_features': 0.6, 'n_estim...         -20.824340   \n",
       "2  {'max_depth': 5, 'max_features': 0.8, 'n_estim...         -20.989288   \n",
       "3  {'max_depth': 5, 'max_features': 0.8, 'n_estim...         -21.010018   \n",
       "4  {'max_depth': 8, 'max_features': 0.6, 'n_estim...         -18.865531   \n",
       "5  {'max_depth': 8, 'max_features': 0.6, 'n_estim...         -18.854329   \n",
       "6  {'max_depth': 8, 'max_features': 0.8, 'n_estim...         -18.937581   \n",
       "7  {'max_depth': 8, 'max_features': 0.8, 'n_estim...         -18.931384   \n",
       "\n",
       "   split1_test_score  ...  mean_test_score  std_test_score  rank_test_score  \\\n",
       "0         -21.199966  ...       -21.011389        0.113530                6   \n",
       "1         -21.155027  ...       -20.968471        0.114939                5   \n",
       "2         -21.287187  ...       -21.102549        0.117325                7   \n",
       "3         -21.292031  ...       -21.110516        0.114126                8   \n",
       "4         -19.114565  ...       -18.953061        0.131024                2   \n",
       "5         -19.107515  ...       -18.947260        0.132570                1   \n",
       "6         -19.189236  ...       -19.039534        0.131144                3   \n",
       "7         -19.195153  ...       -19.040604        0.132121                4   \n",
       "\n",
       "   split0_train_score  split1_train_score  split2_train_score  \\\n",
       "0          -20.997400          -20.953789          -20.979164   \n",
       "1          -20.943240          -20.910884          -20.942337   \n",
       "2          -21.073190          -21.037733          -21.052296   \n",
       "3          -21.093648          -21.038419          -21.068620   \n",
       "4          -18.904499          -18.840073          -18.858518   \n",
       "5          -18.895327          -18.830199          -18.850992   \n",
       "6          -18.969601          -18.920898          -18.967186   \n",
       "7          -18.964997          -18.921992          -18.970358   \n",
       "\n",
       "   split3_train_score  split4_train_score  mean_train_score  std_train_score  \n",
       "0          -21.015521          -20.979529        -20.985081         0.020608  \n",
       "1          -20.977691          -20.938673        -20.942565         0.021228  \n",
       "2          -21.114312          -21.092137        -21.073934         0.027353  \n",
       "3          -21.117122          -21.093817        -21.082325         0.026783  \n",
       "4          -18.920044          -18.860982        -18.876823         0.030234  \n",
       "5          -18.912608          -18.863833        -18.870592         0.029795  \n",
       "6          -19.019751          -18.946463        -18.964779         0.032594  \n",
       "7          -19.023579          -18.943427        -18.964871         0.033986  \n",
       "\n",
       "[8 rows x 23 columns]"
      ]
     },
     "execution_count": 22,
     "metadata": {},
     "output_type": "execute_result"
    }
   ],
   "source": [
    "# All results\n",
    "cv_results = pd.DataFrame.from_dict(regr.cv_results_)\n",
    "cv_results"
   ]
  },
  {
   "cell_type": "code",
   "execution_count": 23,
   "metadata": {},
   "outputs": [
    {
     "name": "stdout",
     "output_type": "stream",
     "text": [
      "24.39366276582127\n"
     ]
    }
   ],
   "source": [
    "y_pred = regr.predict(X_test)\n",
    "value = metric(y_pred, y_test)\n",
    "print(value)"
   ]
  },
  {
   "cell_type": "code",
   "execution_count": 30,
   "metadata": {},
   "outputs": [
    {
     "name": "stdout",
     "output_type": "stream",
     "text": [
      "25.570356220001763\n"
     ]
    }
   ],
   "source": [
    "model = RandomForestRegressor(n_estimators=200,\n",
    "                              max_features=0.6, \n",
    "                              max_depth= 7,\n",
    "                              criterion=\"mse\", \n",
    "                              random_state=42)\n",
    "\n",
    "model.fit(X_train, y_train)\n",
    "y_pred = model.predict(X_test)\n",
    "value = metric(y_pred, y_test)\n",
    "print(value)"
   ]
  },
  {
   "cell_type": "code",
   "execution_count": 26,
   "metadata": {
    "scrolled": true
   },
   "outputs": [
    {
     "name": "stdout",
     "output_type": "stream",
     "text": [
      "[1.67274863e-01 1.99797081e-03 2.96308802e-03 2.60004748e-02\n",
      " 5.21639399e-02 3.45319120e-04 1.37207319e-01 3.15826117e-03\n",
      " 1.43101682e-03 6.07457747e-01]\n"
     ]
    }
   ],
   "source": [
    "# Print feature importances\n",
    "print(model.feature_importances_)"
   ]
  },
  {
   "cell_type": "code",
   "execution_count": 29,
   "metadata": {},
   "outputs": [
    {
     "name": "stdout",
     "output_type": "stream",
     "text": [
      "Index(['Promo', 'SchoolHoliday', 'CompetitionDistance', 'Month', 'Weekday',\n",
      "       'Holiday', 'Customers_enc', 'StoreType_enc', 'Assortment_enc',\n",
      "       'Store_enc'],\n",
      "      dtype='object')\n"
     ]
    },
    {
     "data": {
      "image/png": "[encoded data removed]",
      "text/plain": [
       "<Figure size 432x288 with 1 Axes>"
      ]
     },
     "metadata": {
      "needs_background": "light"
     },
     "output_type": "display_data"
    }
   ],
   "source": [
    "# plot feature importances\n",
    "print(X_train.columns)\n",
    "plt.bar(range(len(model.feature_importances_)), model.feature_importances_)\n",
    "plt.show()"
   ]
  },
  {
   "cell_type": "code",
   "execution_count": null,
   "metadata": {},
   "outputs": [],
   "source": []
  }
 ],
 "metadata": {
  "kernelspec": {
   "display_name": "Python 3",
   "language": "python",
   "name": "python3"
  },
  "language_info": {
   "codemirror_mode": {
    "name": "ipython",
    "version": 3
   },
   "file_extension": ".py",
   "mimetype": "text/x-python",
   "name": "python",
   "nbconvert_exporter": "python",
   "pygments_lexer": "ipython3",
   "version": "3.9.6"
  }
 },
 "nbformat": 4,
 "nbformat_minor": 4
}
